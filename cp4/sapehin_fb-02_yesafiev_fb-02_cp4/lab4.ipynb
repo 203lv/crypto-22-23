{
 "cells": [
  {
   "cell_type": "code",
   "execution_count": 1,
   "outputs": [],
   "source": [
    "from random import randint\n",
    "global num_of_iterations\n",
    "num_of_iterations = 40"
   ],
   "metadata": {
    "collapsed": false,
    "pycharm": {
     "name": "#%%\n"
    }
   }
  },
  {
   "cell_type": "code",
   "execution_count": 2,
   "outputs": [],
   "source": [
    "def mod_pow(x, y, m):\n",
    "    # Returns (x^y) % p\n",
    "    res = 1\n",
    "\n",
    "    x = x % m\n",
    "    while y > 0:\n",
    "        if y & 1:\n",
    "            res = (res * x) % m\n",
    "\n",
    "        y = y >> 1\n",
    "        x = (x * x) % m\n",
    "\n",
    "    return res\n",
    "\n",
    "# This function is called\n",
    "# for all k trials. It returns\n",
    "# false if n is composite and\n",
    "# returns false if n is\n",
    "# probably prime. d is an odd\n",
    "# number such that d*2<sup>r</sup> = n-1\n",
    "# for some r >= 1\n",
    "def miller_rabin_test(d, n):\n",
    "    # Pick a random number in [2..n-2]\n",
    "    # Corner cases make sure that n > 4\n",
    "    a = 2 + randint(1, n - 4)\n",
    "\n",
    "    # Compute a^d % n\n",
    "    x = mod_pow(a, d, n)\n",
    "\n",
    "    if x == 1 or x == n - 1:\n",
    "        return True\n",
    "\n",
    "    while d != n - 1:\n",
    "        x = (x * x) % n\n",
    "        d *= 2\n",
    "\n",
    "        if x == 1:\n",
    "            return False\n",
    "        if x == n - 1:\n",
    "            return True\n",
    "\n",
    "    # Return composite\n",
    "    return False\n",
    "\n",
    "# It returns false if n is\n",
    "# composite and returns true if n\n",
    "# is probably prime. k is an\n",
    "# input parameter that determines\n",
    "# accuracy level. Higher value of\n",
    "# k indicates more accuracy.\n",
    "def is_prime(n, k):\n",
    "    # Corner cases\n",
    "    if n <= 1 or n == 4:\n",
    "        return False\n",
    "    if n <= 3:\n",
    "        return True\n",
    "\n",
    "    # Find r such that n =\n",
    "    # 2^d * r + 1 for some r >= 1\n",
    "    d = n - 1\n",
    "    while d % 2 == 0:\n",
    "        d //= 2\n",
    "\n",
    "    # Iterate given number of 'k' times\n",
    "    for i in range(k):\n",
    "        if not miller_rabin_test(d, n):\n",
    "            return False\n",
    "\n",
    "    return True"
   ],
   "metadata": {
    "collapsed": false,
    "pycharm": {
     "name": "#%%\n"
    }
   }
  },
  {
   "cell_type": "code",
   "execution_count": 3,
   "outputs": [],
   "source": [
    "def generate_random_prime(range_min, range_max):\n",
    "    global num_of_iterations\n",
    "    while True:\n",
    "        number = randint(range_min, range_max)\n",
    "        if is_prime(number, num_of_iterations):\n",
    "            return number\n",
    "\n",
    "def generate_smaller_bigger(range_min, range_max):\n",
    "    a = generate_random_prime(range_min, range_max)\n",
    "    b = generate_random_prime(range_min, range_max)\n",
    "    return (a, b) if a <= b else (b, a)\n",
    "\n",
    "def generate_pairs(range_min, range_max):\n",
    "    p_p1 = generate_smaller_bigger(range_min, range_max)\n",
    "    q_q1 = generate_smaller_bigger(range_min, range_max)\n",
    "    return (p_p1[0], q_q1[0]), (p_p1[1], q_q1[1])\n"
   ],
   "metadata": {
    "collapsed": false,
    "pycharm": {
     "name": "#%%\n"
    }
   }
  },
  {
   "cell_type": "code",
   "execution_count": 4,
   "outputs": [],
   "source": [
    "def gcd_extended(a, m):\n",
    "    if a == 0:\n",
    "        return m, 0, 1\n",
    "    gcd, x1, y1 = gcd_extended(m % a, a)\n",
    "    x = y1 - (m // a) * x1\n",
    "    y = x1\n",
    "    return gcd, x, y\n",
    "\n",
    "\n",
    "def inverse_modulo(a, m):\n",
    "    gcd, x, y = gcd_extended(a, m)\n",
    "    if gcd == 1:\n",
    "        return (x % m + m) % m\n",
    "    else:\n",
    "        return -1"
   ],
   "metadata": {
    "collapsed": false,
    "pycharm": {
     "name": "#%%\n"
    }
   }
  },
  {
   "cell_type": "code",
   "execution_count": 5,
   "outputs": [],
   "source": [
    "def generate_keys(p, q):\n",
    "    n = p * q\n",
    "    phi = (p - 1) * (q - 1)\n",
    "    while True:\n",
    "        e = randint(2, phi - 1)\n",
    "        if gcd_extended(e, phi)[0] == 1:\n",
    "            d = inverse_modulo(e, phi)\n",
    "            return e, n, d"
   ],
   "metadata": {
    "collapsed": false,
    "pycharm": {
     "name": "#%%\n"
    }
   }
  },
  {
   "cell_type": "code",
   "execution_count": 6,
   "outputs": [],
   "source": [
    "class User:\n",
    "    def __init__(self, name, p, q):\n",
    "        self.name = name\n",
    "        self.p = p\n",
    "        self.q = q\n",
    "\n",
    "        keys = generate_keys(p, q)\n",
    "        self.e = keys[0]\n",
    "        self.n = keys[1]\n",
    "        self.d = keys[2]\n",
    "\n",
    "    def regenerate_keys(self, receiver_n, range_min, range_max):\n",
    "        while True:\n",
    "            p = generate_random_prime(range_min, range_max)\n",
    "            q = generate_random_prime(range_min, range_max)\n",
    "            keys = generate_keys(p, q)\n",
    "            if keys[1] <= receiver_n:\n",
    "                self.p = p\n",
    "                self.q = q\n",
    "                self.e = keys[0]\n",
    "                self.n = keys[1]\n",
    "                self.d = keys[2]\n",
    "                return\n",
    "\n",
    "    def encrypt(self, m, e, n):\n",
    "        c = mod_pow(m, e, n)\n",
    "        return c\n",
    "\n",
    "    def decrypt(self, c):\n",
    "        m = mod_pow(c, self.d, self.n)\n",
    "        return m\n",
    "\n",
    "    def sign(self, m):\n",
    "        s = mod_pow(m, self.d, self.n)\n",
    "        return s\n",
    "\n",
    "    def verify(self, m, s, e, n):\n",
    "        m_check = mod_pow(s, e, n)\n",
    "        return m == m_check\n",
    "\n",
    "    def send_key(self, k, e, n):\n",
    "        if self.n > n:\n",
    "            print('Need to regenerate keys!')\n",
    "            return\n",
    "        k_enc = self.encrypt(k, e, n)\n",
    "        s = self.sign(k)\n",
    "        s_enc = self.encrypt(s, e, n)\n",
    "        return k_enc, s_enc\n",
    "\n",
    "    def receive_key(self, k_enc, s_enc, e, n):\n",
    "        k = self.decrypt(k_enc)\n",
    "        s = self.decrypt(s_enc)\n",
    "        if self.verify(k, s, e, n):\n",
    "            print('Success')\n",
    "        else:\n",
    "            print('Failure')\n"
   ],
   "metadata": {
    "collapsed": false,
    "pycharm": {
     "name": "#%%\n"
    }
   }
  },
  {
   "cell_type": "code",
   "execution_count": 8,
   "outputs": [
    {
     "name": "stdout",
     "output_type": "stream",
     "text": [
      "Generated message: 696218097\n",
      "\n",
      "Encrypted message from Lil to Big: 4389782605843559830433250718211387723067700586443649655811637780092556688854354510119774171832702416548022542491203414840452132534119975643289020707706004\n",
      "Signature: 8608556994551702746755689314883178697221366354083975974421632214827288055777717075055802250643702974801082832365051901684192396904969996927719713205635521\n",
      "\n",
      "\n",
      "Big decrypted message: 696218097\n",
      "Signature verify: True\n"
     ]
    }
   ],
   "source": [
    "range_min = (2 ** 255) + 1\n",
    "range_max = (2 ** 256) - 1\n",
    "smaller,bigger = generate_pairs(range_min, range_max)\n",
    "\n",
    "lil = User('Lil', smaller[0], smaller[1])\n",
    "big = User('Big', bigger[0], bigger[1])\n",
    "\n",
    "message = randint(1, 2 ** 30)\n",
    "print(f'Generated message: {message}\\n')\n",
    "\n",
    "m_enc = lil.encrypt(message, big.e, big.n)\n",
    "s = lil.sign(message)\n",
    "print(f'Encrypted message from Lil to Big: {m_enc}')\n",
    "print(f'Signature: {s}\\n\\n')\n",
    "\n",
    "\n",
    "m_dec = big.decrypt(m_enc)\n",
    "s_verify = big.verify(m_dec, s, lil.e, lil.n)\n",
    "print(f'Big decrypted message: {m_dec}')\n",
    "print(f'Signature verify: {s_verify}')"
   ],
   "metadata": {
    "collapsed": false,
    "pycharm": {
     "name": "#%%\n"
    }
   }
  },
  {
   "cell_type": "code",
   "execution_count": 9,
   "outputs": [
    {
     "name": "stdout",
     "output_type": "stream",
     "text": [
      "Generated key: 554730538\n",
      "\n",
      "Success\n"
     ]
    }
   ],
   "source": [
    "k = randint(1, 2 ** 30)\n",
    "print(f'Generated key: {k}\\n')\n",
    "\n",
    "k_enc, s_enc = lil.send_key(k, big.e, big.n)\n",
    "big.receive_key(k_enc, s_enc, lil.e, lil.n)"
   ],
   "metadata": {
    "collapsed": false,
    "pycharm": {
     "name": "#%%\n"
    }
   }
  }
 ],
 "metadata": {
  "kernelspec": {
   "display_name": "Python 3",
   "language": "python",
   "name": "python3"
  },
  "language_info": {
   "codemirror_mode": {
    "name": "ipython",
    "version": 2
   },
   "file_extension": ".py",
   "mimetype": "text/x-python",
   "name": "python",
   "nbconvert_exporter": "python",
   "pygments_lexer": "ipython2",
   "version": "2.7.6"
  }
 },
 "nbformat": 4,
 "nbformat_minor": 0
}