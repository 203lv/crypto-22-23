{
 "cells": [
  {
   "cell_type": "code",
   "execution_count": 83,
   "outputs": [],
   "source": [
    "from random import randint\n",
    "global num_of_iterations\n",
    "num_of_iterations = 40"
   ],
   "metadata": {
    "collapsed": false,
    "pycharm": {
     "name": "#%%\n"
    }
   }
  },
  {
   "cell_type": "code",
   "execution_count": 84,
   "outputs": [],
   "source": [
    "def hex_to_dec(hex_n):\n",
    "    return int(hex_n, 16)\n",
    "\n",
    "def dec_to_hex(n):\n",
    "    return hex(n).replace(\"0x\",\"\").upper()"
   ],
   "metadata": {
    "collapsed": false,
    "pycharm": {
     "name": "#%%\n"
    }
   }
  },
  {
   "cell_type": "code",
   "execution_count": 85,
   "outputs": [],
   "source": [
    "def mod_pow(x, y, m):\n",
    "    # Returns (x^y) % p\n",
    "    res = 1\n",
    "\n",
    "    x = x % m\n",
    "    while y > 0:\n",
    "        if y & 1:\n",
    "            res = (res * x) % m\n",
    "\n",
    "        y = y >> 1\n",
    "        x = (x * x) % m\n",
    "\n",
    "    return res\n",
    "\n",
    "# This function is called\n",
    "# for all k trials. It returns\n",
    "# false if n is composite and\n",
    "# returns false if n is\n",
    "# probably prime. d is an odd\n",
    "# number such that d*2<sup>r</sup> = n-1\n",
    "# for some r >= 1\n",
    "def miller_rabin_test(d, n):\n",
    "    # Pick a random number in [2..n-2]\n",
    "    # Corner cases make sure that n > 4\n",
    "    a = 2 + randint(1, n - 4)\n",
    "\n",
    "    # Compute a^d % n\n",
    "    x = mod_pow(a, d, n)\n",
    "\n",
    "    if x == 1 or x == n - 1:\n",
    "        return True\n",
    "\n",
    "    while d != n - 1:\n",
    "        x = (x * x) % n\n",
    "        d *= 2\n",
    "\n",
    "        if x == 1:\n",
    "            return False\n",
    "        if x == n - 1:\n",
    "            return True\n",
    "\n",
    "    # Return composite\n",
    "    return False\n",
    "\n",
    "# It returns false if n is\n",
    "# composite and returns true if n\n",
    "# is probably prime. k is an\n",
    "# input parameter that determines\n",
    "# accuracy level. Higher value of\n",
    "# k indicates more accuracy.\n",
    "def is_prime(n, k):\n",
    "    # Corner cases\n",
    "    if n <= 1 or n == 4:\n",
    "        return False\n",
    "    if n <= 3:\n",
    "        return True\n",
    "\n",
    "    # Find r such that n =\n",
    "    # 2^d * r + 1 for some r >= 1\n",
    "    d = n - 1\n",
    "    while d % 2 == 0:\n",
    "        d //= 2\n",
    "\n",
    "    # Iterate given number of 'k' times\n",
    "    for i in range(k):\n",
    "        if not miller_rabin_test(d, n):\n",
    "            return False\n",
    "\n",
    "    return True"
   ],
   "metadata": {
    "collapsed": false,
    "pycharm": {
     "name": "#%%\n"
    }
   }
  },
  {
   "cell_type": "code",
   "execution_count": 86,
   "outputs": [],
   "source": [
    "def generate_random_prime(range_min, range_max):\n",
    "    global num_of_iterations\n",
    "    while True:\n",
    "        number = randint(range_min, range_max)\n",
    "        if is_prime(number, num_of_iterations):\n",
    "            return number\n",
    "\n",
    "def generate_smaller_bigger(range_min, range_max):\n",
    "    a = generate_random_prime(range_min, range_max)\n",
    "    b = generate_random_prime(range_min, range_max)\n",
    "    return (a, b) if a <= b else (b, a)\n",
    "\n",
    "def generate_pairs(range_min, range_max):\n",
    "    p_p1 = generate_smaller_bigger(range_min, range_max)\n",
    "    q_q1 = generate_smaller_bigger(range_min, range_max)\n",
    "    return (p_p1[0], q_q1[0]), (p_p1[1], q_q1[1])\n"
   ],
   "metadata": {
    "collapsed": false,
    "pycharm": {
     "name": "#%%\n"
    }
   }
  },
  {
   "cell_type": "code",
   "execution_count": 87,
   "outputs": [],
   "source": [
    "def gcd_extended(a, m):\n",
    "    if a == 0:\n",
    "        return m, 0, 1\n",
    "    gcd, x1, y1 = gcd_extended(m % a, a)\n",
    "    x = y1 - (m // a) * x1\n",
    "    y = x1\n",
    "    return gcd, x, y\n",
    "\n",
    "\n",
    "def inverse_modulo(a, m):\n",
    "    gcd, x, y = gcd_extended(a, m)\n",
    "    if gcd == 1:\n",
    "        return (x % m + m) % m\n",
    "    else:\n",
    "        return -1"
   ],
   "metadata": {
    "collapsed": false,
    "pycharm": {
     "name": "#%%\n"
    }
   }
  },
  {
   "cell_type": "code",
   "execution_count": 88,
   "outputs": [],
   "source": [
    "def generate_keys(p, q):\n",
    "    n = p * q\n",
    "    phi = (p - 1) * (q - 1)\n",
    "    while True:\n",
    "        e = randint(2, phi - 1)\n",
    "        if gcd_extended(e, phi)[0] == 1:\n",
    "            d = inverse_modulo(e, phi)\n",
    "            return e, n, d"
   ],
   "metadata": {
    "collapsed": false,
    "pycharm": {
     "name": "#%%\n"
    }
   }
  },
  {
   "cell_type": "code",
   "execution_count": 89,
   "outputs": [],
   "source": [
    "class User:\n",
    "    def __init__(self, name, p, q):\n",
    "        self.name = name\n",
    "        self.p = p\n",
    "        self.q = q\n",
    "\n",
    "        keys = generate_keys(p, q)\n",
    "        self.e = keys[0]\n",
    "        self.n = keys[1]\n",
    "        self.d = keys[2]\n",
    "\n",
    "    def regenerate_keys(self, receiver_n, range_min, range_max):\n",
    "        \"\"\"Regenerates keys if incompatible with receiver n\"\"\"\n",
    "        while True:\n",
    "            p = generate_random_prime(range_min, range_max)\n",
    "            q = generate_random_prime(range_min, range_max)\n",
    "            keys = generate_keys(p, q)\n",
    "            if keys[1] <= receiver_n:\n",
    "                self.p = p\n",
    "                self.q = q\n",
    "                self.e = keys[0]\n",
    "                self.n = keys[1]\n",
    "                self.d = keys[2]\n",
    "                return\n",
    "\n",
    "    def hex_regenerate_keys(self, receiver_n, range_min, range_max):\n",
    "        \"\"\"Regenerates keys if incompatible with receiver n\"\"\"\n",
    "        self.regenerate_keys(hex_to_dec(receiver_n), range_min, range_max)\n",
    "\n",
    "    def encrypt(self, m, e, n):\n",
    "        c = mod_pow(m, e, n)\n",
    "        return c\n",
    "\n",
    "    def decrypt(self, c):\n",
    "        m = mod_pow(c, self.d, self.n)\n",
    "        return m\n",
    "\n",
    "    def sign(self, m):\n",
    "        s = mod_pow(m, self.d, self.n)\n",
    "        return s\n",
    "\n",
    "    def verify(self, m, s, e, n):\n",
    "        m_check = mod_pow(s, e, n)\n",
    "        return m == m_check\n",
    "\n",
    "    def send_key(self, k, e, n):\n",
    "        if self.n > n:\n",
    "            print('Need to regenerate keys!')\n",
    "            return\n",
    "        k_enc = self.encrypt(k, e, n)\n",
    "        s = self.sign(k)\n",
    "        s_enc = self.encrypt(s, e, n)\n",
    "        return k_enc, s_enc\n",
    "\n",
    "    def receive_key(self, k_enc, s_enc, e, n):\n",
    "        k = self.decrypt(k_enc)\n",
    "        s = self.decrypt(s_enc)\n",
    "        if self.verify(k, s, e, n):\n",
    "            print('Success')\n",
    "        else:\n",
    "            print('Failure')\n",
    "\n",
    "    def print_public(self):\n",
    "        print(f'Modulus:\\n{dec_to_hex(self.n)}\\n\\nE:\\n{dec_to_hex(self.e)}')\n",
    "\n",
    "    def hex_encrypt(self, m, e, n):\n",
    "        return dec_to_hex(self.encrypt(hex_to_dec(m),\n",
    "                                       hex_to_dec(e),\n",
    "                                       hex_to_dec(n)))\n",
    "\n",
    "    def hex_decrypt(self, m):\n",
    "        return dec_to_hex(self.decrypt(hex_to_dec(m)))\n",
    "\n",
    "    def hex_sign(self, m):\n",
    "        return self.sign(hex_to_dec(m))\n",
    "\n",
    "    def hex_verify(self, m, s, e, n):\n",
    "        return self.verify(hex_to_dec(m),\n",
    "                           hex_to_dec(s),\n",
    "                           hex_to_dec(e),\n",
    "                           hex_to_dec(n))\n",
    "\n",
    "    def hex_send_key(self, key, e, n):\n",
    "        k, s = self.send_key(hex_to_dec(key),\n",
    "                             hex_to_dec(e),\n",
    "                             hex_to_dec(n))\n",
    "        return dec_to_hex(k), dec_to_hex(s)\n",
    "\n",
    "    def hex_receive_key(self, k_enc, s_enc, e, n):\n",
    "        self.receive_key(hex_to_dec(k_enc),\n",
    "                         hex_to_dec(s_enc),\n",
    "                         hex_to_dec(e),\n",
    "                         hex_to_dec(n))"
   ],
   "metadata": {
    "collapsed": false,
    "pycharm": {
     "name": "#%%\n"
    }
   }
  },
  {
   "cell_type": "code",
   "execution_count": 90,
   "outputs": [
    {
     "name": "stdout",
     "output_type": "stream",
     "text": [
      "Generated message: 228280705\n",
      "\n",
      "Encrypted message from Lil to Big: 8034899667930890294171721438826272079363972093456028660967473741193352922300675518791452410664435996657600364925338584525401073308687711833924417449424176\n",
      "Signature: 1601100297349929380403311392854352747732847203372725719726531862502099462184121051141585738882467652167149569895275261177779158579239787382833416760506916\n",
      "\n",
      "\n",
      "Big decrypted message: 228280705\n",
      "Signature verify: True\n"
     ]
    }
   ],
   "source": [
    "range_min = int('1'+'0'*255, 2)\n",
    "range_max = int('1'*256, 2)\n",
    "smaller,bigger = generate_pairs(range_min, range_max)\n",
    "\n",
    "lil = User('Lil', smaller[0], smaller[1])\n",
    "big = User('Big', bigger[0], bigger[1])\n",
    "\n",
    "message = randint(1, 2 ** 30)\n",
    "print(f'Generated message: {message}\\n')\n",
    "\n",
    "m_enc = lil.encrypt(message, big.e, big.n)\n",
    "s = lil.sign(message)\n",
    "print(f'Encrypted message from Lil to Big: {m_enc}')\n",
    "print(f'Signature: {s}\\n\\n')\n",
    "\n",
    "\n",
    "m_dec = big.decrypt(m_enc)\n",
    "s_verify = big.verify(m_dec, s, lil.e, lil.n)\n",
    "print(f'Big decrypted message: {m_dec}')\n",
    "print(f'Signature verify: {s_verify}')"
   ],
   "metadata": {
    "collapsed": false,
    "pycharm": {
     "name": "#%%\n"
    }
   }
  },
  {
   "cell_type": "code",
   "execution_count": 91,
   "outputs": [
    {
     "name": "stdout",
     "output_type": "stream",
     "text": [
      "Generated key: 360515213\n",
      "\n",
      "Success\n"
     ]
    }
   ],
   "source": [
    "k = randint(1, 2 ** 30)\n",
    "print(f'Generated key: {k}\\n')\n",
    "\n",
    "k_enc, s_enc = lil.send_key(k, big.e, big.n)\n",
    "big.receive_key(k_enc, s_enc, lil.e, lil.n)"
   ],
   "metadata": {
    "collapsed": false,
    "pycharm": {
     "name": "#%%\n"
    }
   }
  },
  {
   "cell_type": "code",
   "execution_count": 92,
   "outputs": [
    {
     "name": "stdout",
     "output_type": "stream",
     "text": [
      "Modulus:\n",
      "9F3FFBB3C9349849A27A2A7EA9E52B288ACFA563F532B615EE3010B1227DC9350D2082209C087F2E65FF8BA2D742970ABD1B92D6D017DCC0AE3AF7F9E1D1312F\n",
      "\n",
      "E:\n",
      "5747699930490AC4D58122D4D18FC73C943FEAC835DEE93488CF3EEC410C6EA76FE301938049547113556C3C863E99B7F104E1EF755831074BB3D90A0B72DCC5\n"
     ]
    }
   ],
   "source": [
    "me = User('me', generate_random_prime(range_min, range_max), generate_random_prime(range_min, range_max))\n",
    "me.print_public()"
   ],
   "metadata": {
    "collapsed": false,
    "pycharm": {
     "name": "#%%\n"
    }
   }
  },
  {
   "cell_type": "code",
   "execution_count": 93,
   "outputs": [
    {
     "name": "stdout",
     "output_type": "stream",
     "text": [
      "Modulus:\n",
      "78A78F33494907A41FE5158C249DD9EFD60D7EB4C68959FD792882157FF23C20431BBF37B13BB42461F10BC79F213B6F5738EEE94B62E66C4E33FDE090CFBC99\n",
      "\n",
      "E:\n",
      "455FCE0604E613E2B2014D09F597BFAE93647F388442AEB7590A5A1744F3810CEF2DB93B6FAFDEF4157FA10FDC576C2275497F3169D6A46D06149B202E31176F\n"
     ]
    },
    {
     "data": {
      "text/plain": "('56683DD20F8D3410BE95BE9581B4D9A9A5A1E95535C020B7024E3FECF6DED4ED3DF289625946B08FB54D8A89FE5E01ACDAC0ECE6665F66793BF878315DB9BC9C',\n '26981109BA9E4B9B79D8100A35E6EE5795D0DE7C15DD7F9107A364A48690493A2FA625B512AE0F12EDFBF96CE047C2D6E9338AACBF0B672205F903AD863D5936')"
     },
     "execution_count": 93,
     "metadata": {},
     "output_type": "execute_result"
    }
   ],
   "source": [
    "# Server modulus here\n",
    "n_hex = '94429BC353A2492FF546D7C266F6213D12EAB30228C49BE841775AD71D359200D026FEF407DC3C9DFBE0FCC7CC0215B0B4547D3EC21A271B08F35A6B2020E5CD'\n",
    "e_hex = '10001'\n",
    "\n",
    "key = 'ABCD'\n",
    "\n",
    "me.hex_regenerate_keys(n_hex, range_min, range_max)\n",
    "me.print_public()\n",
    "me.hex_send_key(key, e_hex, n_hex)"
   ],
   "metadata": {
    "collapsed": false,
    "pycharm": {
     "name": "#%%\n"
    }
   }
  },
  {
   "cell_type": "code",
   "execution_count": 93,
   "outputs": [],
   "source": [],
   "metadata": {
    "collapsed": false,
    "pycharm": {
     "name": "#%%\n"
    }
   }
  }
 ],
 "metadata": {
  "kernelspec": {
   "display_name": "Python 3",
   "language": "python",
   "name": "python3"
  },
  "language_info": {
   "codemirror_mode": {
    "name": "ipython",
    "version": 2
   },
   "file_extension": ".py",
   "mimetype": "text/x-python",
   "name": "python",
   "nbconvert_exporter": "python",
   "pygments_lexer": "ipython2",
   "version": "2.7.6"
  }
 },
 "nbformat": 4,
 "nbformat_minor": 0
}